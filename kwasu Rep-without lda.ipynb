{
 "cells": [
  {
   "cell_type": "code",
   "execution_count": 1,
   "id": "1eaae952",
   "metadata": {},
   "outputs": [],
   "source": [
    "import numpy as np\n",
    "import pandas as pd\n",
    "import matplotlib.pyplot as plt\n",
    "from scipy import stats\n",
    "import seaborn as sns\n",
    "import nltk\n",
    "from nltk.tokenize import word_tokenize\n",
    "from nltk.stem import PorterStemmer\n",
    "from nltk.corpus import stopwords\n",
    "from sklearn.metrics import confusion_matrix,classification_report\n",
    "import warnings \n",
    "warnings.simplefilter(action = \"ignore\",category = FutureWarning)"
   ]
  },
  {
   "cell_type": "code",
   "execution_count": 2,
   "id": "c8110fdc",
   "metadata": {},
   "outputs": [
    {
     "data": {
      "text/html": [
       "<div>\n",
       "<style scoped>\n",
       "    .dataframe tbody tr th:only-of-type {\n",
       "        vertical-align: middle;\n",
       "    }\n",
       "\n",
       "    .dataframe tbody tr th {\n",
       "        vertical-align: top;\n",
       "    }\n",
       "\n",
       "    .dataframe thead th {\n",
       "        text-align: right;\n",
       "    }\n",
       "</style>\n",
       "<table border=\"1\" class=\"dataframe\">\n",
       "  <thead>\n",
       "    <tr style=\"text-align: right;\">\n",
       "      <th></th>\n",
       "      <th>Category</th>\n",
       "      <th>Message</th>\n",
       "    </tr>\n",
       "  </thead>\n",
       "  <tbody>\n",
       "    <tr>\n",
       "      <th>0</th>\n",
       "      <td>ham</td>\n",
       "      <td>Go until jurong point, crazy.. Available only ...</td>\n",
       "    </tr>\n",
       "    <tr>\n",
       "      <th>1</th>\n",
       "      <td>ham</td>\n",
       "      <td>Ok lar... Joking wif u oni...</td>\n",
       "    </tr>\n",
       "    <tr>\n",
       "      <th>2</th>\n",
       "      <td>spam</td>\n",
       "      <td>Free entry in 2 a wkly comp to win FA Cup fina...</td>\n",
       "    </tr>\n",
       "    <tr>\n",
       "      <th>3</th>\n",
       "      <td>ham</td>\n",
       "      <td>U dun say so early hor... U c already then say...</td>\n",
       "    </tr>\n",
       "    <tr>\n",
       "      <th>4</th>\n",
       "      <td>ham</td>\n",
       "      <td>Nah I don't think he goes to usf, he lives aro...</td>\n",
       "    </tr>\n",
       "  </tbody>\n",
       "</table>\n",
       "</div>"
      ],
      "text/plain": [
       "  Category                                            Message\n",
       "0      ham  Go until jurong point, crazy.. Available only ...\n",
       "1      ham                      Ok lar... Joking wif u oni...\n",
       "2     spam  Free entry in 2 a wkly comp to win FA Cup fina...\n",
       "3      ham  U dun say so early hor... U c already then say...\n",
       "4      ham  Nah I don't think he goes to usf, he lives aro..."
      ]
     },
     "execution_count": 2,
     "metadata": {},
     "output_type": "execute_result"
    }
   ],
   "source": [
    "email = pd.read_csv(\"email message.csv\", encoding = \"latin-1\")\n",
    "email.head()"
   ]
  },
  {
   "cell_type": "code",
   "execution_count": 3,
   "id": "b5cde923",
   "metadata": {},
   "outputs": [
    {
     "name": "stdout",
     "output_type": "stream",
     "text": [
      "<class 'pandas.core.frame.DataFrame'>\n",
      "RangeIndex: 5572 entries, 0 to 5571\n",
      "Data columns (total 2 columns):\n",
      " #   Column    Non-Null Count  Dtype \n",
      "---  ------    --------------  ----- \n",
      " 0   Category  5572 non-null   object\n",
      " 1   Message   5572 non-null   object\n",
      "dtypes: object(2)\n",
      "memory usage: 87.2+ KB\n"
     ]
    }
   ],
   "source": [
    "email.info()"
   ]
  },
  {
   "cell_type": "code",
   "execution_count": 4,
   "id": "9c2752f8",
   "metadata": {},
   "outputs": [
    {
     "data": {
      "text/html": [
       "<div>\n",
       "<style scoped>\n",
       "    .dataframe tbody tr th:only-of-type {\n",
       "        vertical-align: middle;\n",
       "    }\n",
       "\n",
       "    .dataframe tbody tr th {\n",
       "        vertical-align: top;\n",
       "    }\n",
       "\n",
       "    .dataframe thead th {\n",
       "        text-align: right;\n",
       "    }\n",
       "</style>\n",
       "<table border=\"1\" class=\"dataframe\">\n",
       "  <thead>\n",
       "    <tr style=\"text-align: right;\">\n",
       "      <th></th>\n",
       "      <th>Category</th>\n",
       "      <th>Message</th>\n",
       "    </tr>\n",
       "  </thead>\n",
       "  <tbody>\n",
       "    <tr>\n",
       "      <th>0</th>\n",
       "      <td>False</td>\n",
       "      <td>False</td>\n",
       "    </tr>\n",
       "    <tr>\n",
       "      <th>1</th>\n",
       "      <td>False</td>\n",
       "      <td>False</td>\n",
       "    </tr>\n",
       "    <tr>\n",
       "      <th>2</th>\n",
       "      <td>False</td>\n",
       "      <td>False</td>\n",
       "    </tr>\n",
       "    <tr>\n",
       "      <th>3</th>\n",
       "      <td>False</td>\n",
       "      <td>False</td>\n",
       "    </tr>\n",
       "    <tr>\n",
       "      <th>4</th>\n",
       "      <td>False</td>\n",
       "      <td>False</td>\n",
       "    </tr>\n",
       "    <tr>\n",
       "      <th>...</th>\n",
       "      <td>...</td>\n",
       "      <td>...</td>\n",
       "    </tr>\n",
       "    <tr>\n",
       "      <th>5567</th>\n",
       "      <td>False</td>\n",
       "      <td>False</td>\n",
       "    </tr>\n",
       "    <tr>\n",
       "      <th>5568</th>\n",
       "      <td>False</td>\n",
       "      <td>False</td>\n",
       "    </tr>\n",
       "    <tr>\n",
       "      <th>5569</th>\n",
       "      <td>False</td>\n",
       "      <td>False</td>\n",
       "    </tr>\n",
       "    <tr>\n",
       "      <th>5570</th>\n",
       "      <td>False</td>\n",
       "      <td>False</td>\n",
       "    </tr>\n",
       "    <tr>\n",
       "      <th>5571</th>\n",
       "      <td>False</td>\n",
       "      <td>False</td>\n",
       "    </tr>\n",
       "  </tbody>\n",
       "</table>\n",
       "<p>5572 rows × 2 columns</p>\n",
       "</div>"
      ],
      "text/plain": [
       "      Category  Message\n",
       "0        False    False\n",
       "1        False    False\n",
       "2        False    False\n",
       "3        False    False\n",
       "4        False    False\n",
       "...        ...      ...\n",
       "5567     False    False\n",
       "5568     False    False\n",
       "5569     False    False\n",
       "5570     False    False\n",
       "5571     False    False\n",
       "\n",
       "[5572 rows x 2 columns]"
      ]
     },
     "execution_count": 4,
     "metadata": {},
     "output_type": "execute_result"
    }
   ],
   "source": [
    "email.isnull()"
   ]
  },
  {
   "cell_type": "code",
   "execution_count": 5,
   "id": "d206e5e3",
   "metadata": {},
   "outputs": [
    {
     "data": {
      "text/plain": [
       "0       False\n",
       "1       False\n",
       "2       False\n",
       "3       False\n",
       "4       False\n",
       "        ...  \n",
       "5567    False\n",
       "5568    False\n",
       "5569    False\n",
       "5570    False\n",
       "5571    False\n",
       "Length: 5572, dtype: bool"
      ]
     },
     "execution_count": 5,
     "metadata": {},
     "output_type": "execute_result"
    }
   ],
   "source": [
    "email.duplicated()"
   ]
  },
  {
   "cell_type": "code",
   "execution_count": 6,
   "id": "bdf0f831",
   "metadata": {},
   "outputs": [],
   "source": [
    "# plot the show the dataset is imbalanced"
   ]
  },
  {
   "cell_type": "code",
   "execution_count": 7,
   "id": "19638f05",
   "metadata": {},
   "outputs": [
    {
     "data": {
      "image/png": "[encoded data removed]",
      "text/plain": [
       "<Figure size 432x288 with 1 Axes>"
      ]
     },
     "metadata": {
      "needs_background": "light"
     },
     "output_type": "display_data"
    }
   ],
   "source": [
    "sns.countplot(data=email,x=\"Category\")\n",
    "plt.show()"
   ]
  },
  {
   "cell_type": "code",
   "execution_count": 8,
   "id": "cb2beadf",
   "metadata": {},
   "outputs": [],
   "source": [
    "#balancing the dataset by downsampling\n",
    "email_spam = email[email[\"Category\"]==\"spam\"]\n",
    "\n",
    "email_ham = email[email[\"Category\"]==\"ham\"]"
   ]
  },
  {
   "cell_type": "code",
   "execution_count": 9,
   "id": "622e923c",
   "metadata": {},
   "outputs": [
    {
     "name": "stdout",
     "output_type": "stream",
     "text": [
      "spam    747\n",
      "ham     747\n",
      "Name: Category, dtype: int64\n"
     ]
    },
    {
     "data": {
      "text/html": [
       "<div>\n",
       "<style scoped>\n",
       "    .dataframe tbody tr th:only-of-type {\n",
       "        vertical-align: middle;\n",
       "    }\n",
       "\n",
       "    .dataframe tbody tr th {\n",
       "        vertical-align: top;\n",
       "    }\n",
       "\n",
       "    .dataframe thead th {\n",
       "        text-align: right;\n",
       "    }\n",
       "</style>\n",
       "<table border=\"1\" class=\"dataframe\">\n",
       "  <thead>\n",
       "    <tr style=\"text-align: right;\">\n",
       "      <th></th>\n",
       "      <th>Category</th>\n",
       "      <th>Message</th>\n",
       "    </tr>\n",
       "  </thead>\n",
       "  <tbody>\n",
       "    <tr>\n",
       "      <th>77</th>\n",
       "      <td>ham</td>\n",
       "      <td>i like you peoples very much:) but am very shy...</td>\n",
       "    </tr>\n",
       "    <tr>\n",
       "      <th>109</th>\n",
       "      <td>ham</td>\n",
       "      <td>i know! grumpy old people. my mom was like you...</td>\n",
       "    </tr>\n",
       "    <tr>\n",
       "      <th>204</th>\n",
       "      <td>ham</td>\n",
       "      <td>goodmorning sleeping ga.</td>\n",
       "    </tr>\n",
       "    <tr>\n",
       "      <th>3943</th>\n",
       "      <td>ham</td>\n",
       "      <td>she's borderline but yeah whatever.</td>\n",
       "    </tr>\n",
       "    <tr>\n",
       "      <th>259</th>\n",
       "      <td>spam</td>\n",
       "      <td>we tried to contact you re your reply to our o...</td>\n",
       "    </tr>\n",
       "  </tbody>\n",
       "</table>\n",
       "</div>"
      ],
      "text/plain": [
       "     Category                                            Message\n",
       "77        ham  i like you peoples very much:) but am very shy...\n",
       "109       ham  i know! grumpy old people. my mom was like you...\n",
       "204       ham                           goodmorning sleeping ga.\n",
       "3943      ham                she's borderline but yeah whatever.\n",
       "259      spam  we tried to contact you re your reply to our o..."
      ]
     },
     "execution_count": 9,
     "metadata": {},
     "output_type": "execute_result"
    }
   ],
   "source": [
    "#downsampling\n",
    "email_ham_balanced = email_ham.sample(email_spam.shape[0])\n",
    "email_bal = pd.concat([email_spam,email_ham_balanced])\n",
    "print(email_bal[\"Category\"].value_counts())\n",
    "\n",
    "email_bal[\"Message\"] = email_bal[\"Message\"].str.lower()\n",
    "email_bal[\"Message\"] = email_bal[\"Message\"].astype(str)\n",
    "\n",
    "email_bal.sample(5)"
   ]
  },
  {
   "cell_type": "code",
   "execution_count": 10,
   "id": "e9558688",
   "metadata": {},
   "outputs": [
    {
     "name": "stdout",
     "output_type": "stream",
     "text": [
      "\n",
      " balanced dataset:\n",
      " spam    747\n",
      "ham     747\n",
      "Name: Category, dtype: int64\n"
     ]
    },
    {
     "data": {
      "image/png": "[encoded data removed]",
      "text/plain": [
       "<Figure size 432x288 with 1 Axes>"
      ]
     },
     "metadata": {
      "needs_background": "light"
     },
     "output_type": "display_data"
    }
   ],
   "source": [
    "print(\"\\n balanced dataset:\\n\",email_bal['Category'].value_counts())\n",
    "sns.countplot(data=email_bal,x=\"Category\")\n",
    "plt.show()"
   ]
  },
  {
   "cell_type": "code",
   "execution_count": 11,
   "id": "a9e5cb66",
   "metadata": {},
   "outputs": [
    {
     "data": {
      "text/html": [
       "<div>\n",
       "<style scoped>\n",
       "    .dataframe tbody tr th:only-of-type {\n",
       "        vertical-align: middle;\n",
       "    }\n",
       "\n",
       "    .dataframe tbody tr th {\n",
       "        vertical-align: top;\n",
       "    }\n",
       "\n",
       "    .dataframe thead th {\n",
       "        text-align: right;\n",
       "    }\n",
       "</style>\n",
       "<table border=\"1\" class=\"dataframe\">\n",
       "  <thead>\n",
       "    <tr style=\"text-align: right;\">\n",
       "      <th></th>\n",
       "      <th>Category</th>\n",
       "      <th>Message</th>\n",
       "    </tr>\n",
       "  </thead>\n",
       "  <tbody>\n",
       "    <tr>\n",
       "      <th>1961</th>\n",
       "      <td>1</td>\n",
       "      <td>guess what! somebody you know secretly fancies...</td>\n",
       "    </tr>\n",
       "    <tr>\n",
       "      <th>791</th>\n",
       "      <td>0</td>\n",
       "      <td>this is hoping you enjoyed your game yesterday...</td>\n",
       "    </tr>\n",
       "    <tr>\n",
       "      <th>650</th>\n",
       "      <td>1</td>\n",
       "      <td>you have won ?1,000 cash or a ?2,000 prize! to...</td>\n",
       "    </tr>\n",
       "    <tr>\n",
       "      <th>5088</th>\n",
       "      <td>0</td>\n",
       "      <td>i wont do anything de.</td>\n",
       "    </tr>\n",
       "    <tr>\n",
       "      <th>924</th>\n",
       "      <td>0</td>\n",
       "      <td>she went to attend another two rounds today..b...</td>\n",
       "    </tr>\n",
       "    <tr>\n",
       "      <th>4154</th>\n",
       "      <td>1</td>\n",
       "      <td>urgent!! your 4* costa del sol holiday or â£50...</td>\n",
       "    </tr>\n",
       "    <tr>\n",
       "      <th>3182</th>\n",
       "      <td>0</td>\n",
       "      <td>so many people seems to be special at first si...</td>\n",
       "    </tr>\n",
       "    <tr>\n",
       "      <th>801</th>\n",
       "      <td>1</td>\n",
       "      <td>last chance! claim ur â£150 worth of discount ...</td>\n",
       "    </tr>\n",
       "    <tr>\n",
       "      <th>2002</th>\n",
       "      <td>0</td>\n",
       "      <td>idea will soon get converted to live:)</td>\n",
       "    </tr>\n",
       "    <tr>\n",
       "      <th>2354</th>\n",
       "      <td>1</td>\n",
       "      <td>please call 08712402902 immediately as there i...</td>\n",
       "    </tr>\n",
       "  </tbody>\n",
       "</table>\n",
       "</div>"
      ],
      "text/plain": [
       "      Category                                            Message\n",
       "1961         1  guess what! somebody you know secretly fancies...\n",
       "791          0  this is hoping you enjoyed your game yesterday...\n",
       "650          1  you have won ?1,000 cash or a ?2,000 prize! to...\n",
       "5088         0                             i wont do anything de.\n",
       "924          0  she went to attend another two rounds today..b...\n",
       "4154         1  urgent!! your 4* costa del sol holiday or â£50...\n",
       "3182         0  so many people seems to be special at first si...\n",
       "801          1  last chance! claim ur â£150 worth of discount ...\n",
       "2002         0             idea will soon get converted to live:)\n",
       "2354         1  please call 08712402902 immediately as there i..."
      ]
     },
     "execution_count": 11,
     "metadata": {},
     "output_type": "execute_result"
    }
   ],
   "source": [
    "#encoding spam=1 and ham=0\n",
    "email_bal[\"Category\"] = email_bal[\"Category\"].apply(lambda x:1 if x == \"spam\" else 0)\n",
    "email_bal.sample(10)"
   ]
  },
  {
   "cell_type": "code",
   "execution_count": 12,
   "id": "fd29189f",
   "metadata": {},
   "outputs": [
    {
     "name": "stdout",
     "output_type": "stream",
     "text": [
      "punctuation remove\n",
      " 2       free entry in 2 a wkly comp to win fa cup fina...\n",
      "5       freemsg hey there darling its been 3 weeks now...\n",
      "8       winner as a valued network customer you have b...\n",
      "9       had your mobile 11 months or more u r entitled...\n",
      "11      six chances to win cash from 100 to 20000 poun...\n",
      "                              ...                        \n",
      "4793                                  gd luck 4 ur exams \n",
      "2810    oh yeah i forgot u can only take 2 out shoppin...\n",
      "4549     hope you are having a good week just checking in\n",
      "5283                       yeah probably here for a while\n",
      "3769                                where are you call me\n",
      "Name: Message, Length: 1494, dtype: object\n"
     ]
    }
   ],
   "source": [
    " import re\n",
    "import string\n",
    "#remove punctuations\n",
    "email_bal[\"Message\"] = email_bal[\"Message\"].str.replace('[^\\w\\s]','')\n",
    "print('punctuation remove\\n',email_bal[\"Message\"])\n"
   ]
  },
  {
   "cell_type": "code",
   "execution_count": 13,
   "id": "81bf5a8d",
   "metadata": {},
   "outputs": [
    {
     "name": "stdout",
     "output_type": "stream",
     "text": [
      "2       [free, entry, in, 2, a, wkly, comp, to, win, f...\n",
      "5       [freemsg, hey, there, darling, its, been, 3, w...\n",
      "8       [winner, as, a, valued, network, customer, you...\n",
      "9       [had, your, mobile, 11, months, or, more, u, r...\n",
      "11      [six, chances, to, win, cash, from, 100, to, 2...\n",
      "                              ...                        \n",
      "4793                             [gd, luck, 4, ur, exams]\n",
      "2810    [oh, yeah, i, forgot, u, can, only, take, 2, o...\n",
      "4549    [hope, you, are, having, a, good, week, just, ...\n",
      "5283                [yeah, probably, here, for, a, while]\n",
      "3769                          [where, are, you, call, me]\n",
      "Name: Message, Length: 1494, dtype: object\n"
     ]
    }
   ],
   "source": [
    "# processing the email message\n",
    " \n",
    "# tokenize split words\n",
    "email_bal[\"Message\"] = email_bal.apply(lambda row: nltk.word_tokenize(row[\"Message\"]), axis=1)\n",
    "print( email_bal[\"Message\"])\n",
    "\n"
   ]
  },
  {
   "cell_type": "code",
   "execution_count": 14,
   "id": "5235eacc",
   "metadata": {},
   "outputs": [
    {
     "name": "stdout",
     "output_type": "stream",
     "text": [
      "2       [free, entri, in, 2, a, wkli, comp, to, win, f...\n",
      "5       [freemsg, hey, there, darl, it, been, 3, week,...\n",
      "8       [winner, as, a, valu, network, custom, you, ha...\n",
      "9       [had, your, mobil, 11, month, or, more, u, r, ...\n",
      "11      [six, chanc, to, win, cash, from, 100, to, 200...\n",
      "                              ...                        \n",
      "4793                              [gd, luck, 4, ur, exam]\n",
      "2810    [oh, yeah, i, forgot, u, can, onli, take, 2, o...\n",
      "4549    [hope, you, are, have, a, good, week, just, ch...\n",
      "5283                 [yeah, probabl, here, for, a, while]\n",
      "3769                          [where, are, you, call, me]\n",
      "Name: Message, Length: 1494, dtype: object\n"
     ]
    }
   ],
   "source": [
    "from nltk.stem.snowball import SnowballStemmer\n",
    "stemmer = SnowballStemmer(\"english\")\n",
    "# tokenize split words\n",
    "#email_bal[\"Message\"] = email_bal[\"Message\"].str.split()\n",
    "#stemming\n",
    "email_bal[\"Message\"] = email_bal[\"Message\"].apply(lambda x: ([stemmer.stem(y) for y in x]))\n",
    "print(email_bal[\"Message\"])\n",
    "\n"
   ]
  },
  {
   "cell_type": "code",
   "execution_count": 15,
   "id": "23c49ec8",
   "metadata": {},
   "outputs": [
    {
     "name": "stdout",
     "output_type": "stream",
     "text": [
      "stopwords\n",
      "2       free entri wkli comp win fa cup final tkts 21s...\n",
      "5       freemsg hey darl 3 week word back id like fun ...\n",
      "8       winner valu network custom select receivea â90...\n",
      "9       mobil 11 month r entitl updat latest colour mo...\n",
      "11      six chanc win cash 100 20000 pound txt csh11 s...\n",
      "                              ...                        \n",
      "4793                                         gd luck exam\n",
      "2810                    oh yeah forgot onli take shop onc\n",
      "4549                                 hope good week check\n",
      "5283                                         yeah probabl\n",
      "3769                                                 call\n",
      "Name: Message, Length: 1494, dtype: object\n"
     ]
    }
   ],
   "source": [
    "#stopword\n",
    "print(\"stopwords\")\n",
    "stop_word = set(stopwords.words('english') + ['u','ur','4','2','im','dont','doin','ure',\"s\"])\n",
    "email_bal[\"Message\"] = email_bal[\"Message\"].apply(lambda x: \" \".join(word for word in x if word not in stop_word))\n",
    "print(email_bal[\"Message\"]) \n",
    "\n"
   ]
  },
  {
   "cell_type": "code",
   "execution_count": 16,
   "id": "ed6f915e",
   "metadata": {},
   "outputs": [],
   "source": [
    "#splitting the dataset\n",
    "from sklearn.model_selection import train_test_split\n",
    "X = email_bal[\"Message\"]\n",
    "y = email_bal[\"Category\"]\n",
    "\n",
    "x_train, x_test,y_train, y_test = train_test_split(X,y,test_size = 0.20,random_state=24)\n",
    "\n",
    "from sklearn.feature_extraction.text import CountVectorizer\n",
    "cv = CountVectorizer()\n",
    "\n",
    "features = cv.fit_transform(x_train)\n",
    "features_test = cv.transform(x_test)\n",
    "\n",
    "\n",
    "\n"
   ]
  },
  {
   "cell_type": "code",
   "execution_count": 17,
   "id": "9783b0db",
   "metadata": {},
   "outputs": [
    {
     "name": "stdout",
     "output_type": "stream",
     "text": [
      "              precision    recall  f1-score   support\n",
      "\n",
      "           0       0.98      0.94      0.96       155\n",
      "           1       0.93      0.98      0.96       144\n",
      "\n",
      "    accuracy                           0.96       299\n",
      "   macro avg       0.96      0.96      0.96       299\n",
      "weighted avg       0.96      0.96      0.96       299\n",
      "\n"
     ]
    },
    {
     "data": {
      "image/png": "[encoded data removed]",
      "text/plain": [
       "<Figure size 432x288 with 2 Axes>"
      ]
     },
     "metadata": {
      "needs_background": "light"
     },
     "output_type": "display_data"
    }
   ],
   "source": [
    "from sklearn import svm\n",
    "#using SVC algorith\n",
    "model = svm.SVC()\n",
    "model.fit(features,y_train)\n",
    "pred = model.predict(features_test)\n",
    "\n",
    "from sklearn.metrics import confusion_matrix,classification_report\n",
    "print(classification_report(pred,y_test))\n",
    "\n",
    "confus = confusion_matrix(pred,y_test)\n",
    "sns.heatmap(confus, annot=True,linewidths=1,fmt=\"d\")\n",
    "plt.show()\n"
   ]
  },
  {
   "cell_type": "code",
   "execution_count": 18,
   "id": "7ab5d43d",
   "metadata": {},
   "outputs": [
    {
     "name": "stdout",
     "output_type": "stream",
     "text": [
      "              precision    recall  f1-score   support\n",
      "\n",
      "           0       0.96      0.97      0.97       146\n",
      "           1       0.97      0.96      0.97       153\n",
      "\n",
      "    accuracy                           0.97       299\n",
      "   macro avg       0.97      0.97      0.97       299\n",
      "weighted avg       0.97      0.97      0.97       299\n",
      "\n"
     ]
    },
    {
     "data": {
      "image/png": "[encoded data removed]",
      "text/plain": [
       "<Figure size 432x288 with 2 Axes>"
      ]
     },
     "metadata": {
      "needs_background": "light"
     },
     "output_type": "display_data"
    }
   ],
   "source": [
    "from sklearn.naive_bayes import MultinomialNB\n",
    "bayes = MultinomialNB()\n",
    "bayes.fit(features,y_train)\n",
    "pred_bayes = bayes.predict(features_test)\n",
    "\n",
    "print(classification_report(pred_bayes,y_test))\n",
    "\n",
    "\n",
    "confus = confusion_matrix(pred_bayes,y_test)\n",
    "sns.heatmap(confus, annot=True,linewidths=1,fmt=\"d\")\n",
    "plt.show()\n"
   ]
  },
  {
   "cell_type": "code",
   "execution_count": 19,
   "id": "d04259a2",
   "metadata": {},
   "outputs": [
    {
     "data": {
      "text/plain": [
       "array([0], dtype=int64)"
      ]
     },
     "execution_count": 19,
     "metadata": {},
     "output_type": "execute_result"
    }
   ],
   "source": [
    "bayes.predict(cv.transform([\"mark work tomorrow get 5 work hous meet afterward\"]))"
   ]
  },
  {
   "cell_type": "code",
   "execution_count": null,
   "id": "095fdd15",
   "metadata": {},
   "outputs": [],
   "source": []
  }
 ],
 "metadata": {
  "kernelspec": {
   "display_name": "Python 3",
   "language": "python",
   "name": "python3"
  },
  "language_info": {
   "codemirror_mode": {
    "name": "ipython",
    "version": 3
   },
   "file_extension": ".py",
   "mimetype": "text/x-python",
   "name": "python",
   "nbconvert_exporter": "python",
   "pygments_lexer": "ipython3",
   "version": "3.8.8"
  }
 },
 "nbformat": 4,
 "nbformat_minor": 5
}
