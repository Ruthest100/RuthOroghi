{
 "cells": [
  {
   "cell_type": "code",
   "execution_count": 306,
   "id": "1eaae952",
   "metadata": {},
   "outputs": [],
   "source": [
    "import numpy as np\n",
    "import pandas as pd\n",
    "import matplotlib.pyplot as plt\n",
    "from scipy import stats\n",
    "import seaborn as sns\n",
    "import nltk\n",
    "from nltk.tokenize import word_tokenize\n",
    "from nltk.stem import PorterStemmer\n",
    "from nltk.corpus import stopwords\n",
    "from sklearn.metrics import confusion_matrix,classification_report\n",
    "import warnings \n",
    "warnings.simplefilter(action = \"ignore\",category = FutureWarning)"
   ]
  },
  {
   "cell_type": "code",
   "execution_count": 307,
   "id": "c8110fdc",
   "metadata": {},
   "outputs": [
    {
     "data": {
      "text/html": [
       "<div>\n",
       "<style scoped>\n",
       "    .dataframe tbody tr th:only-of-type {\n",
       "        vertical-align: middle;\n",
       "    }\n",
       "\n",
       "    .dataframe tbody tr th {\n",
       "        vertical-align: top;\n",
       "    }\n",
       "\n",
       "    .dataframe thead th {\n",
       "        text-align: right;\n",
       "    }\n",
       "</style>\n",
       "<table border=\"1\" class=\"dataframe\">\n",
       "  <thead>\n",
       "    <tr style=\"text-align: right;\">\n",
       "      <th></th>\n",
       "      <th>Category</th>\n",
       "      <th>Message</th>\n",
       "    </tr>\n",
       "  </thead>\n",
       "  <tbody>\n",
       "    <tr>\n",
       "      <th>0</th>\n",
       "      <td>ham</td>\n",
       "      <td>Go until jurong point, crazy.. Available only ...</td>\n",
       "    </tr>\n",
       "    <tr>\n",
       "      <th>1</th>\n",
       "      <td>ham</td>\n",
       "      <td>Ok lar... Joking wif u oni...</td>\n",
       "    </tr>\n",
       "    <tr>\n",
       "      <th>2</th>\n",
       "      <td>spam</td>\n",
       "      <td>Free entry in 2 a wkly comp to win FA Cup fina...</td>\n",
       "    </tr>\n",
       "    <tr>\n",
       "      <th>3</th>\n",
       "      <td>ham</td>\n",
       "      <td>U dun say so early hor... U c already then say...</td>\n",
       "    </tr>\n",
       "    <tr>\n",
       "      <th>4</th>\n",
       "      <td>ham</td>\n",
       "      <td>Nah I don't think he goes to usf, he lives aro...</td>\n",
       "    </tr>\n",
       "  </tbody>\n",
       "</table>\n",
       "</div>"
      ],
      "text/plain": [
       "  Category                                            Message\n",
       "0      ham  Go until jurong point, crazy.. Available only ...\n",
       "1      ham                      Ok lar... Joking wif u oni...\n",
       "2     spam  Free entry in 2 a wkly comp to win FA Cup fina...\n",
       "3      ham  U dun say so early hor... U c already then say...\n",
       "4      ham  Nah I don't think he goes to usf, he lives aro..."
      ]
     },
     "execution_count": 307,
     "metadata": {},
     "output_type": "execute_result"
    }
   ],
   "source": [
    "email = pd.read_csv(\"email message.csv\", encoding = \"latin-1\")\n",
    "email.head()"
   ]
  },
  {
   "cell_type": "code",
   "execution_count": 308,
   "id": "b5cde923",
   "metadata": {},
   "outputs": [
    {
     "name": "stdout",
     "output_type": "stream",
     "text": [
      "<class 'pandas.core.frame.DataFrame'>\n",
      "RangeIndex: 5572 entries, 0 to 5571\n",
      "Data columns (total 2 columns):\n",
      " #   Column    Non-Null Count  Dtype \n",
      "---  ------    --------------  ----- \n",
      " 0   Category  5572 non-null   object\n",
      " 1   Message   5572 non-null   object\n",
      "dtypes: object(2)\n",
      "memory usage: 87.2+ KB\n"
     ]
    }
   ],
   "source": [
    "email.info()"
   ]
  },
  {
   "cell_type": "code",
   "execution_count": 309,
   "id": "9c2752f8",
   "metadata": {},
   "outputs": [
    {
     "data": {
      "text/html": [
       "<div>\n",
       "<style scoped>\n",
       "    .dataframe tbody tr th:only-of-type {\n",
       "        vertical-align: middle;\n",
       "    }\n",
       "\n",
       "    .dataframe tbody tr th {\n",
       "        vertical-align: top;\n",
       "    }\n",
       "\n",
       "    .dataframe thead th {\n",
       "        text-align: right;\n",
       "    }\n",
       "</style>\n",
       "<table border=\"1\" class=\"dataframe\">\n",
       "  <thead>\n",
       "    <tr style=\"text-align: right;\">\n",
       "      <th></th>\n",
       "      <th>Category</th>\n",
       "      <th>Message</th>\n",
       "    </tr>\n",
       "  </thead>\n",
       "  <tbody>\n",
       "    <tr>\n",
       "      <th>0</th>\n",
       "      <td>False</td>\n",
       "      <td>False</td>\n",
       "    </tr>\n",
       "    <tr>\n",
       "      <th>1</th>\n",
       "      <td>False</td>\n",
       "      <td>False</td>\n",
       "    </tr>\n",
       "    <tr>\n",
       "      <th>2</th>\n",
       "      <td>False</td>\n",
       "      <td>False</td>\n",
       "    </tr>\n",
       "    <tr>\n",
       "      <th>3</th>\n",
       "      <td>False</td>\n",
       "      <td>False</td>\n",
       "    </tr>\n",
       "    <tr>\n",
       "      <th>4</th>\n",
       "      <td>False</td>\n",
       "      <td>False</td>\n",
       "    </tr>\n",
       "    <tr>\n",
       "      <th>...</th>\n",
       "      <td>...</td>\n",
       "      <td>...</td>\n",
       "    </tr>\n",
       "    <tr>\n",
       "      <th>5567</th>\n",
       "      <td>False</td>\n",
       "      <td>False</td>\n",
       "    </tr>\n",
       "    <tr>\n",
       "      <th>5568</th>\n",
       "      <td>False</td>\n",
       "      <td>False</td>\n",
       "    </tr>\n",
       "    <tr>\n",
       "      <th>5569</th>\n",
       "      <td>False</td>\n",
       "      <td>False</td>\n",
       "    </tr>\n",
       "    <tr>\n",
       "      <th>5570</th>\n",
       "      <td>False</td>\n",
       "      <td>False</td>\n",
       "    </tr>\n",
       "    <tr>\n",
       "      <th>5571</th>\n",
       "      <td>False</td>\n",
       "      <td>False</td>\n",
       "    </tr>\n",
       "  </tbody>\n",
       "</table>\n",
       "<p>5572 rows × 2 columns</p>\n",
       "</div>"
      ],
      "text/plain": [
       "      Category  Message\n",
       "0        False    False\n",
       "1        False    False\n",
       "2        False    False\n",
       "3        False    False\n",
       "4        False    False\n",
       "...        ...      ...\n",
       "5567     False    False\n",
       "5568     False    False\n",
       "5569     False    False\n",
       "5570     False    False\n",
       "5571     False    False\n",
       "\n",
       "[5572 rows x 2 columns]"
      ]
     },
     "execution_count": 309,
     "metadata": {},
     "output_type": "execute_result"
    }
   ],
   "source": [
    "email.isnull()"
   ]
  },
  {
   "cell_type": "code",
   "execution_count": 310,
   "id": "d206e5e3",
   "metadata": {},
   "outputs": [
    {
     "data": {
      "text/plain": [
       "0       False\n",
       "1       False\n",
       "2       False\n",
       "3       False\n",
       "4       False\n",
       "        ...  \n",
       "5567    False\n",
       "5568    False\n",
       "5569    False\n",
       "5570    False\n",
       "5571    False\n",
       "Length: 5572, dtype: bool"
      ]
     },
     "execution_count": 310,
     "metadata": {},
     "output_type": "execute_result"
    }
   ],
   "source": [
    "email.duplicated()"
   ]
  },
  {
   "cell_type": "code",
   "execution_count": 311,
   "id": "bdf0f831",
   "metadata": {},
   "outputs": [],
   "source": [
    "# plot the show the dataset is imbalanced"
   ]
  },
  {
   "cell_type": "code",
   "execution_count": 312,
   "id": "19638f05",
   "metadata": {},
   "outputs": [
    {
     "data": {
      "image/png": "[encoded data removed]",
      "text/plain": [
       "<Figure size 432x288 with 1 Axes>"
      ]
     },
     "metadata": {
      "needs_background": "light"
     },
     "output_type": "display_data"
    }
   ],
   "source": [
    "sns.countplot(data=email,x=\"Category\")\n",
    "plt.show()"
   ]
  },
  {
   "cell_type": "code",
   "execution_count": 313,
   "id": "cb2beadf",
   "metadata": {},
   "outputs": [],
   "source": [
    "#balancing the dataset by downsampling\n",
    "email_spam = email[email[\"Category\"]==\"spam\"]\n",
    "\n",
    "email_ham = email[email[\"Category\"]==\"ham\"]"
   ]
  },
  {
   "cell_type": "code",
   "execution_count": 314,
   "id": "622e923c",
   "metadata": {},
   "outputs": [
    {
     "name": "stdout",
     "output_type": "stream",
     "text": [
      "spam    747\n",
      "ham     747\n",
      "Name: Category, dtype: int64\n"
     ]
    },
    {
     "data": {
      "text/html": [
       "<div>\n",
       "<style scoped>\n",
       "    .dataframe tbody tr th:only-of-type {\n",
       "        vertical-align: middle;\n",
       "    }\n",
       "\n",
       "    .dataframe tbody tr th {\n",
       "        vertical-align: top;\n",
       "    }\n",
       "\n",
       "    .dataframe thead th {\n",
       "        text-align: right;\n",
       "    }\n",
       "</style>\n",
       "<table border=\"1\" class=\"dataframe\">\n",
       "  <thead>\n",
       "    <tr style=\"text-align: right;\">\n",
       "      <th></th>\n",
       "      <th>Category</th>\n",
       "      <th>Message</th>\n",
       "    </tr>\n",
       "  </thead>\n",
       "  <tbody>\n",
       "    <tr>\n",
       "      <th>5232</th>\n",
       "      <td>spam</td>\n",
       "      <td>you are chosen to receive a â£350 award! pls c...</td>\n",
       "    </tr>\n",
       "    <tr>\n",
       "      <th>1227</th>\n",
       "      <td>spam</td>\n",
       "      <td>reply with your name and address and you will ...</td>\n",
       "    </tr>\n",
       "    <tr>\n",
       "      <th>956</th>\n",
       "      <td>ham</td>\n",
       "      <td>sorry i now then c ur msg... yar lor so poor t...</td>\n",
       "    </tr>\n",
       "    <tr>\n",
       "      <th>4162</th>\n",
       "      <td>spam</td>\n",
       "      <td>had your mobile 11 months or more? u r entitle...</td>\n",
       "    </tr>\n",
       "    <tr>\n",
       "      <th>65</th>\n",
       "      <td>spam</td>\n",
       "      <td>as a valued customer, i am pleased to advise y...</td>\n",
       "    </tr>\n",
       "  </tbody>\n",
       "</table>\n",
       "</div>"
      ],
      "text/plain": [
       "     Category                                            Message\n",
       "5232     spam  you are chosen to receive a â£350 award! pls c...\n",
       "1227     spam  reply with your name and address and you will ...\n",
       "956       ham  sorry i now then c ur msg... yar lor so poor t...\n",
       "4162     spam  had your mobile 11 months or more? u r entitle...\n",
       "65       spam  as a valued customer, i am pleased to advise y..."
      ]
     },
     "execution_count": 314,
     "metadata": {},
     "output_type": "execute_result"
    }
   ],
   "source": [
    "#downsampling\n",
    "email_ham_balanced = email_ham.sample(email_spam.shape[0])\n",
    "email_bal = pd.concat([email_spam,email_ham_balanced])\n",
    "print(email_bal[\"Category\"].value_counts())\n",
    "\n",
    "email_bal[\"Message\"] = email_bal[\"Message\"].str.lower()\n",
    "email_bal[\"Message\"] = email_bal[\"Message\"].astype(str)\n",
    "\n",
    "email_bal.sample(5)"
   ]
  },
  {
   "cell_type": "code",
   "execution_count": 315,
   "id": "e9558688",
   "metadata": {},
   "outputs": [
    {
     "name": "stdout",
     "output_type": "stream",
     "text": [
      "\n",
      " balanced dataset:\n",
      " spam    747\n",
      "ham     747\n",
      "Name: Category, dtype: int64\n"
     ]
    },
    {
     "data": {
      "image/png": "[encoded data removed]",
      "text/plain": [
       "<Figure size 432x288 with 1 Axes>"
      ]
     },
     "metadata": {
      "needs_background": "light"
     },
     "output_type": "display_data"
    }
   ],
   "source": [
    "print(\"\\n balanced dataset:\\n\",email_bal['Category'].value_counts())\n",
    "sns.countplot(data=email_bal,x=\"Category\")\n",
    "plt.show()"
   ]
  },
  {
   "cell_type": "code",
   "execution_count": 316,
   "id": "a9e5cb66",
   "metadata": {},
   "outputs": [
    {
     "data": {
      "text/html": [
       "<div>\n",
       "<style scoped>\n",
       "    .dataframe tbody tr th:only-of-type {\n",
       "        vertical-align: middle;\n",
       "    }\n",
       "\n",
       "    .dataframe tbody tr th {\n",
       "        vertical-align: top;\n",
       "    }\n",
       "\n",
       "    .dataframe thead th {\n",
       "        text-align: right;\n",
       "    }\n",
       "</style>\n",
       "<table border=\"1\" class=\"dataframe\">\n",
       "  <thead>\n",
       "    <tr style=\"text-align: right;\">\n",
       "      <th></th>\n",
       "      <th>Category</th>\n",
       "      <th>Message</th>\n",
       "    </tr>\n",
       "  </thead>\n",
       "  <tbody>\n",
       "    <tr>\n",
       "      <th>790</th>\n",
       "      <td>0</td>\n",
       "      <td>gud mrng dear hav a nice day</td>\n",
       "    </tr>\n",
       "    <tr>\n",
       "      <th>4206</th>\n",
       "      <td>1</td>\n",
       "      <td>important information 4 orange user 0796xxxxxx...</td>\n",
       "    </tr>\n",
       "    <tr>\n",
       "      <th>3009</th>\n",
       "      <td>1</td>\n",
       "      <td>loan for any purpose â£500 - â£75,000. homeown...</td>\n",
       "    </tr>\n",
       "    <tr>\n",
       "      <th>3667</th>\n",
       "      <td>0</td>\n",
       "      <td>i'm turning off my phone. my moms telling ever...</td>\n",
       "    </tr>\n",
       "    <tr>\n",
       "      <th>4407</th>\n",
       "      <td>1</td>\n",
       "      <td>as one of our registered subscribers u can ent...</td>\n",
       "    </tr>\n",
       "    <tr>\n",
       "      <th>833</th>\n",
       "      <td>1</td>\n",
       "      <td>dear voucher holder, to claim this weeks offer...</td>\n",
       "    </tr>\n",
       "    <tr>\n",
       "      <th>1294</th>\n",
       "      <td>0</td>\n",
       "      <td>happy birthday... may all ur dreams come true...</td>\n",
       "    </tr>\n",
       "    <tr>\n",
       "      <th>117</th>\n",
       "      <td>1</td>\n",
       "      <td>you are a winner u have been specially selecte...</td>\n",
       "    </tr>\n",
       "    <tr>\n",
       "      <th>4823</th>\n",
       "      <td>1</td>\n",
       "      <td>u r a winner u ave been specially selected 2 r...</td>\n",
       "    </tr>\n",
       "    <tr>\n",
       "      <th>4274</th>\n",
       "      <td>0</td>\n",
       "      <td>kind of. just missed train cos of asthma attac...</td>\n",
       "    </tr>\n",
       "  </tbody>\n",
       "</table>\n",
       "</div>"
      ],
      "text/plain": [
       "      Category                                            Message\n",
       "790          0                       gud mrng dear hav a nice day\n",
       "4206         1  important information 4 orange user 0796xxxxxx...\n",
       "3009         1  loan for any purpose â£500 - â£75,000. homeown...\n",
       "3667         0  i'm turning off my phone. my moms telling ever...\n",
       "4407         1  as one of our registered subscribers u can ent...\n",
       "833          1  dear voucher holder, to claim this weeks offer...\n",
       "1294         0   happy birthday... may all ur dreams come true...\n",
       "117          1  you are a winner u have been specially selecte...\n",
       "4823         1  u r a winner u ave been specially selected 2 r...\n",
       "4274         0  kind of. just missed train cos of asthma attac..."
      ]
     },
     "execution_count": 316,
     "metadata": {},
     "output_type": "execute_result"
    }
   ],
   "source": [
    "#encoding spam=1 and ham=0\n",
    "email_bal[\"Category\"] = email_bal[\"Category\"].apply(lambda x:1 if x == \"spam\" else 0)\n",
    "email_bal.sample(10)"
   ]
  },
  {
   "cell_type": "code",
   "execution_count": 317,
   "id": "fd29189f",
   "metadata": {},
   "outputs": [
    {
     "name": "stdout",
     "output_type": "stream",
     "text": [
      "punctuation remove\n",
      " 2       free entry in 2 a wkly comp to win fa cup fina...\n",
      "5       freemsg hey there darling its been 3 weeks now...\n",
      "8       winner as a valued network customer you have b...\n",
      "9       had your mobile 11 months or more u r entitled...\n",
      "11      six chances to win cash from 100 to 20000 poun...\n",
      "                              ...                        \n",
      "2739    i sent you the prices and do you mean the  ltgt g\n",
      "4274    kind of just missed train cos of asthma attack...\n",
      "276                                                 thanx\n",
      "2582    yup im elaborating on the safety aspects and s...\n",
      "2368    v nice off 2 sheffield tom 2 air my opinions o...\n",
      "Name: Message, Length: 1494, dtype: object\n"
     ]
    }
   ],
   "source": [
    " import re\n",
    "import string\n",
    "#remove punctuations\n",
    "email_bal[\"Message\"] = email_bal[\"Message\"].str.replace('[^\\w\\s]','')\n",
    "print('punctuation remove\\n',email_bal[\"Message\"])\n"
   ]
  },
  {
   "cell_type": "code",
   "execution_count": 318,
   "id": "81bf5a8d",
   "metadata": {},
   "outputs": [
    {
     "name": "stdout",
     "output_type": "stream",
     "text": [
      "2       [free, entry, in, 2, a, wkly, comp, to, win, f...\n",
      "5       [freemsg, hey, there, darling, its, been, 3, w...\n",
      "8       [winner, as, a, valued, network, customer, you...\n",
      "9       [had, your, mobile, 11, months, or, more, u, r...\n",
      "11      [six, chances, to, win, cash, from, 100, to, 2...\n",
      "                              ...                        \n",
      "2739    [i, sent, you, the, prices, and, do, you, mean...\n",
      "4274    [kind, of, just, missed, train, cos, of, asthm...\n",
      "276                                               [thanx]\n",
      "2582    [yup, im, elaborating, on, the, safety, aspect...\n",
      "2368    [v, nice, off, 2, sheffield, tom, 2, air, my, ...\n",
      "Name: Message, Length: 1494, dtype: object\n"
     ]
    }
   ],
   "source": [
    "# processing the email message\n",
    " \n",
    "# tokenize split words\n",
    "email_bal[\"Message\"] = email_bal.apply(lambda row: nltk.word_tokenize(row[\"Message\"]), axis=1)\n",
    "print( email_bal[\"Message\"])\n",
    "\n"
   ]
  },
  {
   "cell_type": "code",
   "execution_count": 319,
   "id": "5235eacc",
   "metadata": {},
   "outputs": [
    {
     "name": "stdout",
     "output_type": "stream",
     "text": [
      "2       [free, entri, in, 2, a, wkli, comp, to, win, f...\n",
      "5       [freemsg, hey, there, darl, it, been, 3, week,...\n",
      "8       [winner, as, a, valu, network, custom, you, ha...\n",
      "9       [had, your, mobil, 11, month, or, more, u, r, ...\n",
      "11      [six, chanc, to, win, cash, from, 100, to, 200...\n",
      "                              ...                        \n",
      "2739    [i, sent, you, the, price, and, do, you, mean,...\n",
      "4274    [kind, of, just, miss, train, cos, of, asthma,...\n",
      "276                                               [thanx]\n",
      "2582    [yup, im, elabor, on, the, safeti, aspect, and...\n",
      "2368    [v, nice, off, 2, sheffield, tom, 2, air, my, ...\n",
      "Name: Message, Length: 1494, dtype: object\n"
     ]
    }
   ],
   "source": [
    "from nltk.stem.snowball import SnowballStemmer\n",
    "stemmer = SnowballStemmer(\"english\")\n",
    "# tokenize split words\n",
    "#email_bal[\"Message\"] = email_bal[\"Message\"].str.split()\n",
    "#stemming\n",
    "email_bal[\"Message\"] = email_bal[\"Message\"].apply(lambda x: ([stemmer.stem(y) for y in x]))\n",
    "print(email_bal[\"Message\"])\n",
    "\n"
   ]
  },
  {
   "cell_type": "code",
   "execution_count": 320,
   "id": "23c49ec8",
   "metadata": {},
   "outputs": [
    {
     "name": "stdout",
     "output_type": "stream",
     "text": [
      "stopwords\n",
      "2       [free, entri, wkli, comp, win, fa, cup, final,...\n",
      "5       [freemsg, hey, darl, 3, week, word, back, id, ...\n",
      "8       [winner, valu, network, custom, select, receiv...\n",
      "9       [mobil, 11, month, r, entitl, updat, latest, c...\n",
      "11      [six, chanc, win, cash, 100, 20000, pound, txt...\n",
      "                              ...                        \n",
      "2739                         [sent, price, mean, ltgt, g]\n",
      "4274    [kind, miss, train, cos, asthma, attack, nxt, ...\n",
      "276                                               [thanx]\n",
      "2582                  [yup, elabor, safeti, aspect, issu]\n",
      "2368    [v, nice, sheffield, tom, air, opinion, catego...\n",
      "Name: Message, Length: 1494, dtype: object\n"
     ]
    }
   ],
   "source": [
    "#stopword\n",
    "print(\"stopwords\")\n",
    "stop_word = set(stopwords.words('english') + ['u','ur','4','2','im','dont','doin','ure','s','ü'])\n",
    "email_bal[\"Message\"] = email_bal[\"Message\"].apply(lambda x: \" \".join(word for word in x if word not in stop_word))\n",
    "print(email_bal[\"Message\"].str.split()) \n",
    "\n"
   ]
  },
  {
   "cell_type": "code",
   "execution_count": 321,
   "id": "6e47c054",
   "metadata": {},
   "outputs": [
    {
     "name": "stdout",
     "output_type": "stream",
     "text": [
      "0 08452810075over18\n",
      "1 2005\n",
      "2 21st\n",
      "3 87121\n",
      "4 appli\n"
     ]
    }
   ],
   "source": [
    "import gensim\n",
    "from gensim.utils import simple_preprocess\n",
    "# important word in message\n",
    "X = email_bal[\"Message\"].str.split()\n",
    "dictionary = gensim.corpora.Dictionary(X)\n",
    "\n",
    "count = 0 \n",
    "for k, v in dictionary.iteritems():\n",
    "    print(k ,v)\n",
    "    count += 1\n",
    "    if count>4:\n",
    "        break"
   ]
  },
  {
   "cell_type": "code",
   "execution_count": 322,
   "id": "8661edfb",
   "metadata": {},
   "outputs": [
    {
     "data": {
      "text/plain": [
       "[(20, 1), (42, 1), (47, 1), (52, 1), (66, 1)]"
      ]
     },
     "execution_count": 322,
     "metadata": {},
     "output_type": "execute_result"
    }
   ],
   "source": [
    "#numb of time word appear in message\n",
    "dictionary.filter_extremes(no_below = 15, no_above = 0.5, keep_n = 100000)\n",
    "\n",
    "bow_corpus = [dictionary.doc2bow(doc) for doc in X]\n",
    "bow_corpus[400]"
   ]
  },
  {
   "cell_type": "code",
   "execution_count": 323,
   "id": "0d7705f6",
   "metadata": {},
   "outputs": [
    {
     "name": "stdout",
     "output_type": "stream",
     "text": [
      "word 20(\"call\") appears1 time.\n",
      "word 42(\"1\") appears1 time.\n",
      "word 47(\"messag\") appears1 time.\n",
      "word 52(\"pleas\") appears1 time.\n",
      "word 66(\"new\") appears1 time.\n"
     ]
    }
   ],
   "source": [
    "bow_doc_400 = bow_corpus[400]\n",
    "\n",
    "for i in range(len(bow_doc_400)):\n",
    "    print(\"word {}(\\\"{}\\\") appears{} time.\".format(bow_doc_400[i][0],dictionary[bow_doc_400[i][0]],bow_doc_400[i][1]))\n"
   ]
  },
  {
   "cell_type": "code",
   "execution_count": 324,
   "id": "f339eff8",
   "metadata": {},
   "outputs": [
    {
     "name": "stdout",
     "output_type": "stream",
     "text": [
      "[(0, 0.30146660067652187),\n",
      " (1, 0.6579614360630346),\n",
      " (2, 0.3327444203199456),\n",
      " (3, 0.16720600457704524),\n",
      " (4, 0.354936386525809),\n",
      " (5, 0.2918114413717288),\n",
      " (6, 0.18487186967315444),\n",
      " (7, 0.18046263562702006),\n",
      " (8, 0.2442331125388064)]\n"
     ]
    }
   ],
   "source": [
    "#tfidf convert  topics to eigen vectors\n",
    "from gensim import corpora,models\n",
    "tfidf = models.TfidfModel(bow_corpus)\n",
    "corpus_tfidf =tfidf[bow_corpus]\n",
    "\n",
    "from pprint import pprint\n",
    "\n",
    "for doc in corpus_tfidf:\n",
    "    pprint(doc)\n",
    "    break\n"
   ]
  },
  {
   "cell_type": "code",
   "execution_count": 325,
   "id": "e1c40f27",
   "metadata": {},
   "outputs": [
    {
     "name": "stdout",
     "output_type": "stream",
     "text": [
      "Topic: 0\n",
      "Words:0.054*\"home\" + 0.043*\"ok\" + 0.034*\"come\" + 0.031*\"ã¼\" + 0.031*\"hey\" + 0.031*\"yeah\" + 0.027*\"phone\" + 0.027*\"3\" + 0.027*\"b\" + 0.025*\"ani\"\n",
      "Topic: 1\n",
      "Words:0.048*\"like\" + 0.035*\"tell\" + 0.033*\"get\" + 0.029*\"want\" + 0.029*\"yes\" + 0.028*\"say\" + 0.023*\"give\" + 0.022*\"whi\" + 0.022*\"said\" + 0.021*\"messag\"\n",
      "Topic: 2\n",
      "Words:0.040*\"send\" + 0.033*\"stop\" + 0.029*\"text\" + 0.029*\"free\" + 0.026*\"txt\" + 0.023*\"win\" + 0.021*\"mobil\" + 0.020*\"way\" + 0.020*\"oh\" + 0.017*\"call\"\n",
      "Topic: 3\n",
      "Words:0.043*\"call\" + 0.036*\"ask\" + 0.035*\"claim\" + 0.034*\"prize\" + 0.022*\"urgent\" + 0.021*\"show\" + 0.021*\"cash\" + 0.020*\"select\" + 0.020*\"award\" + 0.019*\"onli\"\n",
      "Topic: 4\n",
      "Words:0.034*\"take\" + 0.034*\"got\" + 0.033*\"ltgt\" + 0.029*\"ill\" + 0.029*\"go\" + 0.029*\"still\" + 0.026*\"sorri\" + 0.024*\"good\" + 0.023*\"need\" + 0.022*\"know\"\n"
     ]
    }
   ],
   "source": [
    "#Running LDA (latent Dirichlet Allocation)using tfidf\n",
    "lda_tfidf = gensim.models.LdaMulticore( corpus_tfidf, num_topics =5, id2word = dictionary, eval_every = 1,per_word_topics =True, passes =50, chunksize = 100, workers = 7)\n",
    "\n",
    "for idx,topic in lda_tfidf.print_topics(-1):\n",
    "    print(\"Topic: {}\\nWords:{}\".format (idx, topic))\n",
    "    "
   ]
  },
  {
   "cell_type": "code",
   "execution_count": 326,
   "id": "a7005889",
   "metadata": {},
   "outputs": [
    {
     "name": "stdout",
     "output_type": "stream",
     "text": [
      "Topic: 0\n",
      "Words:0.147*\"know\" + 0.108*\"love\" + 0.084*\"meet\" + 0.075*\"work\" + 0.066*\"let\" + 0.061*\"find\" + 0.056*\"alway\" + 0.055*\"use\" + 0.038*\"could\" + 0.037*\"first\"\n",
      "Topic: 1\n",
      "Words:0.144*\"ok\" + 0.103*\"call\" + 0.101*\"number\" + 0.071*\"select\" + 0.065*\"end\" + 0.063*\"receiv\" + 0.062*\"claim\" + 0.056*\"pleas\" + 0.053*\"award\" + 0.040*\"custom\"\n",
      "Topic: 2\n",
      "Words:0.095*\"sorri\" + 0.076*\"one\" + 0.065*\"think\" + 0.064*\"great\" + 0.063*\"see\" + 0.057*\"yes\" + 0.054*\"look\" + 0.053*\"miss\" + 0.051*\"make\" + 0.051*\"friend\"\n",
      "Topic: 3\n",
      "Words:0.090*\"call\" + 0.082*\"free\" + 0.058*\"mobil\" + 0.045*\"phone\" + 0.040*\"prize\" + 0.032*\"guarante\" + 0.032*\"claim\" + 0.031*\"urgent\" + 0.029*\"latest\" + 0.028*\"camera\"\n",
      "Topic: 4\n",
      "Words:0.100*\"win\" + 0.077*\"txt\" + 0.058*\"week\" + 0.057*\"day\" + 0.046*\"b\" + 0.043*\"entri\" + 0.043*\"chanc\" + 0.042*\"voucher\" + 0.039*\"everi\" + 0.036*\"â100\"\n",
      "Topic: 5\n",
      "Words:0.094*\"call\" + 0.091*\"collect\" + 0.070*\"way\" + 0.062*\"await\" + 0.056*\"box\" + 0.054*\"help\" + 0.053*\"holiday\" + 0.051*\"cash\" + 0.045*\"po\" + 0.044*\"sae\"\n",
      "Topic: 6\n",
      "Words:0.119*\"messag\" + 0.088*\"ã¼\" + 0.068*\"free\" + 0.057*\"sms\" + 0.056*\"appli\" + 0.056*\"text\" + 0.052*\"may\" + 0.049*\"credit\" + 0.044*\"repli\" + 0.036*\"500\"\n",
      "Topic: 7\n",
      "Words:0.196*\"ill\" + 0.139*\"good\" + 0.128*\"got\" + 0.092*\"next\" + 0.084*\"hey\" + 0.080*\"send\" + 0.051*\"word\" + 0.029*\"day\" + 0.028*\"3\" + 0.027*\"love\"\n",
      "Topic: 8\n",
      "Words:0.127*\"onli\" + 0.105*\"time\" + 0.102*\"call\" + 0.089*\"tri\" + 0.086*\"thank\" + 0.068*\"easi\" + 0.057*\"minut\" + 0.046*\"per\" + 0.042*\"claim\" + 0.038*\"pound\"\n",
      "Topic: 9\n",
      "Words:0.140*\"lor\" + 0.138*\"need\" + 0.130*\"n\" + 0.121*\"yeah\" + 0.112*\"care\" + 0.099*\"da\" + 0.079*\"wat\" + 0.040*\"take\" + 0.026*\"wan\" + 0.022*\"r\"\n",
      "Topic: 10\n",
      "Words:0.107*\"come\" + 0.095*\"want\" + 0.082*\"like\" + 0.082*\"ani\" + 0.076*\"still\" + 0.055*\"oh\" + 0.054*\"hope\" + 0.047*\"home\" + 0.044*\"new\" + 0.039*\"1\"\n",
      "Topic: 11\n",
      "Words:0.320*\"go\" + 0.092*\"na\" + 0.072*\"thing\" + 0.066*\"wan\" + 0.052*\"babe\" + 0.044*\"home\" + 0.043*\"onli\" + 0.036*\"send\" + 0.033*\"play\" + 0.032*\"msg\"\n",
      "Topic: 12\n",
      "Words:0.147*\"call\" + 0.074*\"min\" + 0.050*\"video\" + 0.047*\"well\" + 0.046*\"account\" + 0.040*\"show\" + 0.035*\"expir\" + 0.035*\"privat\" + 0.033*\"point\" + 0.031*\"statement\"\n",
      "Topic: 13\n",
      "Words:0.130*\"whi\" + 0.127*\"tell\" + 0.109*\"said\" + 0.108*\"even\" + 0.106*\"ask\" + 0.095*\"e\" + 0.079*\"pick\" + 0.078*\"today\" + 0.040*\"poli\" + 0.026*\"show\"\n",
      "Topic: 14\n",
      "Words:0.162*\"ltgt\" + 0.092*\"call\" + 0.072*\"servic\" + 0.063*\"around\" + 0.056*\"custom\" + 0.054*\"give\" + 0.052*\"prize\" + 0.040*\"someon\" + 0.038*\"know\" + 0.035*\"date\"\n",
      "Topic: 15\n",
      "Words:0.137*\"back\" + 0.117*\"hi\" + 0.107*\"text\" + 0.095*\"get\" + 0.088*\"3\" + 0.073*\"night\" + 0.067*\"say\" + 0.047*\"c\" + 0.039*\"cost\" + 0.037*\"shop\"\n",
      "Topic: 16\n",
      "Words:0.121*\"would\" + 0.104*\"live\" + 0.080*\"soon\" + 0.079*\"us\" + 0.066*\"import\" + 0.058*\"winner\" + 0.055*\"oper\" + 0.043*\"claim\" + 0.039*\"like\" + 0.038*\"cash\"\n",
      "Topic: 17\n",
      "Words:0.105*\"week\" + 0.078*\"tone\" + 0.067*\"txt\" + 0.053*\"nokia\" + 0.047*\"free\" + 0.046*\"mob\" + 0.042*\"everi\" + 0.041*\"16\" + 0.039*\"get\" + 0.038*\"8007\"\n",
      "Topic: 18\n",
      "Words:0.272*\"get\" + 0.132*\"take\" + 0.114*\"later\" + 0.075*\"befor\" + 0.071*\"pls\" + 0.069*\"call\" + 0.053*\"part\" + 0.044*\"girl\" + 0.038*\"nokia\" + 0.022*\"send\"\n",
      "Topic: 19\n",
      "Words:0.111*\"stop\" + 0.062*\"text\" + 0.059*\"repli\" + 0.054*\"free\" + 0.049*\"txt\" + 0.042*\"new\" + 0.039*\"msg\" + 0.037*\"get\" + 0.037*\"mobil\" + 0.032*\"send\"\n"
     ]
    }
   ],
   "source": [
    "#Running LDA (latent Dirichlet Allocation) on bag of word for prediction purposes\n",
    "lda_train = gensim.models.LdaMulticore( bow_corpus, num_topics =20, id2word = dictionary, eval_every = 1,per_word_topics =True, passes =50, chunksize = 100, workers = 7)\n",
    "lda_train.save('lda_train.model')\n",
    "for idx,topic in lda_train.print_topics(-1):\n",
    "    print(\"Topic: {}\\nWords:{}\".format (idx, topic))\n",
    "    "
   ]
  },
  {
   "cell_type": "code",
   "execution_count": 327,
   "id": "36064860",
   "metadata": {},
   "outputs": [],
   "source": [
    "train_vecs = []\n",
    "for i in range(len(X)):\n",
    "    top_topics = lda_train.get_document_topics( bow_corpus[i], minimum_probability=0.0)\n",
    "    topic_vec = [top_topics[i][1] for i in range(20)]\n",
    "    train_vecs.append(topic_vec) "
   ]
  },
  {
   "cell_type": "code",
   "execution_count": 328,
   "id": "d32a8283",
   "metadata": {},
   "outputs": [],
   "source": [
    "#applying LDA\n",
    "from sklearn.model_selection import train_test_split\n",
    "# scaling the dataset using MinMaxscaler\n",
    "from sklearn.preprocessing import MinMaxScaler\n",
    "\n",
    "X = np.array(train_vecs)\n",
    "y = email_bal[\"Category\"]\n",
    "\n",
    "x_train, x_test,y_train, y_test = train_test_split(X ,y,test_size = 0.20,random_state=20)\n",
    "# Scale Data\n",
    "scaler = MinMaxScaler()\n",
    "x_train = scaler.fit_transform(x_train)\n",
    "x_test = scaler.transform(x_test)"
   ]
  },
  {
   "cell_type": "code",
   "execution_count": 329,
   "id": "67082a46",
   "metadata": {},
   "outputs": [
    {
     "name": "stdout",
     "output_type": "stream",
     "text": [
      "              precision    recall  f1-score   support\n",
      "\n",
      "           0       0.84      0.85      0.84       145\n",
      "           1       0.86      0.84      0.85       154\n",
      "\n",
      "    accuracy                           0.85       299\n",
      "   macro avg       0.85      0.85      0.85       299\n",
      "weighted avg       0.85      0.85      0.85       299\n",
      "\n"
     ]
    },
    {
     "data": {
      "image/png": "[encoded data removed]",
      "text/plain": [
       "<Figure size 432x288 with 2 Axes>"
      ]
     },
     "metadata": {
      "needs_background": "light"
     },
     "output_type": "display_data"
    }
   ],
   "source": [
    "from sklearn import svm\n",
    "#using SVC algorith\n",
    "model = svm.SVC()\n",
    "model.fit(x_train, y_train)\n",
    "pred = model.predict(x_test)\n",
    "\n",
    "from sklearn.metrics import confusion_matrix,classification_report\n",
    "print(classification_report(pred,y_test))\n",
    "\n",
    "confus = confusion_matrix(pred,y_test)\n",
    "sns.heatmap(confus, annot=True,linewidths=1,fmt=\"d\")\n",
    "plt.show()\n",
    "\n"
   ]
  },
  {
   "cell_type": "code",
   "execution_count": 330,
   "id": "7ab5d43d",
   "metadata": {},
   "outputs": [
    {
     "name": "stdout",
     "output_type": "stream",
     "text": [
      "              precision    recall  f1-score   support\n",
      "\n",
      "           0       0.88      0.79      0.84       164\n",
      "           1       0.78      0.87      0.82       135\n",
      "\n",
      "    accuracy                           0.83       299\n",
      "   macro avg       0.83      0.83      0.83       299\n",
      "weighted avg       0.84      0.83      0.83       299\n",
      "\n"
     ]
    },
    {
     "data": {
      "image/png": "[encoded data removed]",
      "text/plain": [
       "<Figure size 432x288 with 2 Axes>"
      ]
     },
     "metadata": {
      "needs_background": "light"
     },
     "output_type": "display_data"
    }
   ],
   "source": [
    "from sklearn.naive_bayes import MultinomialNB\n",
    "bayes = MultinomialNB()\n",
    "bayes.fit(x_train,y_train)\n",
    "pred_bayes = bayes.predict(x_test)\n",
    "\n",
    "print(classification_report(pred_bayes,y_test))\n",
    "\n",
    "\n",
    "confus = confusion_matrix(pred_bayes,y_test)\n",
    "sns.heatmap(confus, annot=True,linewidths=1,fmt=\"d\")\n",
    "plt.show()\n"
   ]
  },
  {
   "cell_type": "code",
   "execution_count": null,
   "id": "babdf3d0",
   "metadata": {},
   "outputs": [],
   "source": []
  },
  {
   "cell_type": "code",
   "execution_count": null,
   "id": "f35bcff9",
   "metadata": {},
   "outputs": [],
   "source": []
  }
 ],
 "metadata": {
  "kernelspec": {
   "display_name": "Python 3",
   "language": "python",
   "name": "python3"
  },
  "language_info": {
   "codemirror_mode": {
    "name": "ipython",
    "version": 3
   },
   "file_extension": ".py",
   "mimetype": "text/x-python",
   "name": "python",
   "nbconvert_exporter": "python",
   "pygments_lexer": "ipython3",
   "version": "3.8.8"
  }
 },
 "nbformat": 4,
 "nbformat_minor": 5
}
